{
 "cells": [
  {
   "cell_type": "code",
   "execution_count": 1,
   "id": "1ceab9db",
   "metadata": {},
   "outputs": [],
   "source": [
    "import networkx as nx\n",
    "import matplotlib.pyplot as plt"
   ]
  },
  {
   "cell_type": "markdown",
   "id": "54155843",
   "metadata": {},
   "source": [
    "# Load Countries"
   ]
  },
  {
   "cell_type": "code",
   "execution_count": 2,
   "id": "969d516b",
   "metadata": {},
   "outputs": [
    {
     "name": "stdout",
     "output_type": "stream",
     "text": [
      "Total number of countries: 195\n"
     ]
    }
   ],
   "source": [
    "with open('source.txt') as file:\n",
    "    lines = file.readlines()\n",
    "\n",
    "names = list(map(lambda line: line.split('\\t')[1], lines))\n",
    "print(f\"Total number of countries: {len(names)}\")"
   ]
  },
  {
   "cell_type": "markdown",
   "id": "e2c6ec41",
   "metadata": {},
   "source": [
    "# Get start and end sets"
   ]
  },
  {
   "cell_type": "code",
   "execution_count": 3,
   "id": "a56e888d",
   "metadata": {},
   "outputs": [],
   "source": [
    "def getEndSets(words):\n",
    "    starts = {}\n",
    "    finishes = {}\n",
    "\n",
    "    for name in words:\n",
    "        s = name[0].lower()\n",
    "        f = name[-1].lower()\n",
    "        starts[s] = starts.get(s, []) + [name]\n",
    "        finishes[f] = finishes.get(f, []) + [name]\n",
    "\n",
    "    return starts, finishes\n",
    "\n",
    "starts, finishes = getEndSets(names)"
   ]
  },
  {
   "cell_type": "markdown",
   "id": "1a1a987b",
   "metadata": {},
   "source": [
    "# Build Networkx graph from countries and sets"
   ]
  },
  {
   "cell_type": "code",
   "execution_count": 4,
   "id": "6cf46b58",
   "metadata": {},
   "outputs": [],
   "source": [
    "def buildGraph(countries):\n",
    "    G = nx.DiGraph()\n",
    "    starts, finsihes = getEndSets(countries)\n",
    "    \n",
    "    # Add nodes\n",
    "    for name in countries:\n",
    "        G.add_node(name)\n",
    "    \n",
    "    # Add edges\n",
    "    for curr in names:\n",
    "        f = curr[-1].lower()\n",
    "        children = starts.get(f, [])\n",
    "        for child in children:\n",
    "            if child != curr:\n",
    "                G.add_edge(curr, child)\n",
    "    \n",
    "    return G"
   ]
  },
  {
   "cell_type": "code",
   "execution_count": 5,
   "id": "976d1648",
   "metadata": {},
   "outputs": [
    {
     "name": "stdout",
     "output_type": "stream",
     "text": [
      "DiGraph with 195 nodes and 2011 edges\n"
     ]
    }
   ],
   "source": [
    "G = buildGraph(names)\n",
    "print(G)"
   ]
  },
  {
   "cell_type": "code",
   "execution_count": 10,
   "id": "bb9f8d56",
   "metadata": {},
   "outputs": [
    {
     "name": "stdout",
     "output_type": "stream",
     "text": [
      "Total sources : 38\n",
      "Total sinks   : 0\n"
     ]
    }
   ],
   "source": [
    "sources = [node for node, deg in G.in_degree() if deg == 0]\n",
    "sinks = [node for node, deg in G.out_degree() if deg == 0]\n",
    "print(f\"Total sources : {len(sources)}\")\n",
    "print(f\"Total sinks   : {len(sinks)}\")"
   ]
  },
  {
   "cell_type": "markdown",
   "id": "9f146598",
   "metadata": {},
   "source": [
    "# Get grand-child set\n",
    "This could potentially be used for pruning.\n",
    "\n",
    "Depths guide:\n",
    "1. Children\n",
    "2. Grand-children\n",
    "3. Great-grand-children"
   ]
  },
  {
   "cell_type": "code",
   "execution_count": 46,
   "id": "0074d986",
   "metadata": {},
   "outputs": [],
   "source": [
    "def family(graph, node, depth, familyset=None):\n",
    "#     print(f\"Getting familiy for: {node}\")\n",
    "    if depth == 0:\n",
    "        return familyset\n",
    "    \n",
    "    if familyset == None:\n",
    "        familyset = set([node])\n",
    "    \n",
    "    children = list(graph.successors(node))\n",
    "    familyset.update(children)\n",
    "    \n",
    "    for child in children:\n",
    "#         print(f\"About to recurse to child: {child}\")\n",
    "        family(graph, child, depth-1, familyset=familyset)\n",
    "\n",
    "    return familyset"
   ]
  },
  {
   "cell_type": "code",
   "execution_count": 47,
   "id": "47a21fb9",
   "metadata": {
    "scrolled": true
   },
   "outputs": [
    {
     "name": "stdout",
     "output_type": "stream",
     "text": [
      "{'Seychelles', 'Niger', 'Nigeria', 'Denmark', 'Somalia', 'Djibouti', 'Laos', 'Sao Tome and Principe', 'Russia', 'Solomon Islands', 'Angola', 'Lebanon', 'Sweden', 'Austria', 'Luxembourg', 'Saint Kitts and Nevis', 'Uruguay', 'Sierra Leone', 'United Arab Emirates', 'Slovenia', 'South Korea', 'Albania', 'Nauru', 'Syria', 'Slovakia', 'Sri Lanka', 'Libya', 'Lithuania', 'Romania', 'Saint Vincent and the Grenadines', 'Senegal', 'Singapore', 'Argentina', 'Uganda', 'Norway', 'Uzbekistan', 'Saudi Arabia', 'Nicaragua', 'Liberia', 'Andorra', 'Lesotho', 'Antigua and Barbuda', 'Spain', 'Sudan', 'Algeria', 'Namibia', 'New Zealand', 'North Korea', 'North Macedonia', 'United Kingdom', 'Liechtenstein', 'Switzerland', 'Samoa', 'San Marino', 'Saint Lucia', 'Afghanistan', 'Yemen', 'Serbia', 'South Africa', 'Rwanda', 'United States of America', 'Latvia', 'Democratic Republic of the Congo', 'Dominica', 'Netherlands', 'South Sudan', 'Dominican Republic', 'Suriname', 'Australia', 'Nepal', 'Armenia', 'Azerbaijan', 'Ukraine'}\n",
      "Albania has 73 great-grand-children\n"
     ]
    }
   ],
   "source": [
    "ggrand = family(G, 'Albania', 3)\n",
    "print(ggrand)\n",
    "print(f\"Albania has {len(ggrand)} great-grand-children\")"
   ]
  },
  {
   "cell_type": "code",
   "execution_count": 48,
   "id": "fab83e87",
   "metadata": {
    "scrolled": true
   },
   "outputs": [
    {
     "name": "stdout",
     "output_type": "stream",
     "text": [
      "16 Iraq\n",
      "25 Niger\n",
      "26 Ecuador\n",
      "26 El Salvador\n",
      "26 Madagascar\n",
      "26 Myanmar\n",
      "26 Qatar\n",
      "73 Albania\n",
      "73 Algeria\n",
      "73 Andorra\n",
      "73 Angola\n",
      "73 Antigua and Barbuda\n",
      "73 Argentina\n",
      "73 Armenia\n",
      "73 Australia\n",
      "73 Austria\n",
      "73 Dominica\n",
      "73 Latvia\n",
      "73 Liberia\n",
      "73 Libya\n",
      "73 Lithuania\n",
      "73 Namibia\n",
      "73 Nicaragua\n",
      "73 Nigeria\n",
      "73 North Korea\n",
      "73 North Macedonia\n",
      "73 Norway\n",
      "73 Romania\n",
      "73 Russia\n",
      "73 Rwanda\n",
      "73 Saint Lucia\n",
      "73 Samoa\n",
      "73 Saudi Arabia\n",
      "73 Serbia\n",
      "73 Slovakia\n",
      "73 Slovenia\n",
      "73 Somalia\n",
      "73 South Africa\n",
      "73 South Korea\n",
      "73 Sri Lanka\n",
      "73 Syria\n",
      "73 Uganda\n",
      "73 United States of America\n",
      "73 Uruguay\n",
      "74 Bolivia\n",
      "74 Bosnia and Herzegovina\n",
      "74 Botswana\n",
      "74 Bulgaria\n",
      "74 Cambodia\n",
      "74 Canada\n",
      "74 China\n",
      "74 Colombia\n",
      "74 Costa Rica\n",
      "74 Croatia\n",
      "74 Cuba\n",
      "74 Czechia\n",
      "74 Democratic Republic of the Congo\n",
      "74 Equatorial Guinea\n",
      "74 Eritrea\n",
      "74 Estonia\n",
      "74 Ethiopia\n",
      "74 Gambia\n",
      "74 Georgia\n",
      "74 Germany\n",
      "74 Ghana\n",
      "74 Grenada\n",
      "74 Guatemala\n",
      "74 Guinea\n",
      "74 Guyana\n",
      "74 Hungary\n",
      "74 India\n",
      "74 Indonesia\n",
      "74 Italy\n",
      "74 Jamaica\n",
      "74 Kenya\n",
      "74 Lesotho\n",
      "74 Malaysia\n",
      "74 Malta\n",
      "74 Mauritania\n",
      "74 Micronesia\n",
      "74 Moldova\n",
      "74 Mongolia\n",
      "74 Panama\n",
      "74 Papua New Guinea\n",
      "74 Paraguay\n",
      "74 San Marino\n",
      "74 Tanzania\n",
      "74 Tonga\n",
      "74 Tunisia\n",
      "74 Turkey\n",
      "74 Venezuela\n",
      "74 Zambia\n",
      "75 Burkina Faso\n",
      "75 Congo\n",
      "75 Mexico\n",
      "75 Monaco\n",
      "75 Montenegro\n",
      "75 Morocco\n",
      "75 Togo\n",
      "75 Trinidad and Tobago\n",
      "76 Timor-Leste\n",
      "76 Ukraine\n",
      "77 Belize\n",
      "77 Côte d'Ivoire\n",
      "77 Cabo Verde\n",
      "77 Chile\n",
      "77 France\n",
      "77 Greece\n",
      "77 Holy See\n",
      "77 Mozambique\n",
      "77 Palestine State\n",
      "77 Sao Tome and Principe\n",
      "77 Sierra Leone\n",
      "77 Singapore\n",
      "77 Suriname\n",
      "77 Zimbabwe\n",
      "93 Nepal\n",
      "93 Senegal\n",
      "94 Brazil\n",
      "94 Israel\n",
      "94 Portugal\n",
      "100 Bangladesh\n",
      "107 Denmark\n",
      "114 Belgium\n",
      "114 Chad\n",
      "114 Iceland\n",
      "114 Ireland\n",
      "114 New Zealand\n",
      "114 Switzerland\n",
      "114 Thailand\n",
      "114 United Kingdom\n",
      "114 Vietnam\n",
      "115 Finland\n",
      "115 Poland\n",
      "116 Djibouti\n",
      "116 Kiribati\n",
      "117 Brunei\n",
      "117 Burundi\n",
      "117 Eswatini\n",
      "117 Fiji\n",
      "117 Haiti\n",
      "117 Malawi\n",
      "117 Mali\n",
      "119 Nauru\n",
      "119 Tuvalu\n",
      "120 Guinea-Bissau\n",
      "120 Palau\n",
      "120 Peru\n",
      "120 Vanuatu\n",
      "123 Central African Republic\n",
      "123 Dominican Republic\n",
      "129 Luxembourg\n",
      "134 Comoros\n",
      "134 Cyprus\n",
      "134 Laos\n",
      "134 Netherlands\n",
      "134 Saint Kitts and Nevis\n",
      "134 Saint Vincent and the Grenadines\n",
      "134 Seychelles\n",
      "134 Solomon Islands\n",
      "134 United Arab Emirates\n",
      "135 Bahamas\n",
      "135 Barbados\n",
      "135 Belarus\n",
      "135 Honduras\n",
      "135 Maldives\n",
      "135 Marshall Islands\n",
      "135 Mauritius\n",
      "135 Philippines\n",
      "141 Afghanistan\n",
      "141 Azerbaijan\n",
      "141 Cameroon\n",
      "141 Egypt\n",
      "141 Gabon\n",
      "141 Iran\n",
      "141 Kazakhstan\n",
      "141 Kuwait\n",
      "141 Kyrgyzstan\n",
      "141 Lebanon\n",
      "141 Liechtenstein\n",
      "141 Oman\n",
      "141 South Sudan\n",
      "141 Spain\n",
      "141 Sudan\n",
      "141 Sweden\n",
      "141 Uzbekistan\n",
      "141 Yemen\n",
      "142 Bahrain\n",
      "142 Benin\n",
      "142 Bhutan\n",
      "142 Japan\n",
      "142 Jordan\n",
      "142 Pakistan\n",
      "142 Tajikistan\n",
      "142 Turkmenistan\n"
     ]
    }
   ],
   "source": [
    "grandChildSizes = {node: len(family(G, node, 3)) for node in names}\n",
    "sortedNames = sorted(names, key=lambda n: grandChildSizes[n])\n",
    "for name in sortedNames:\n",
    "    print(grandChildSizes[name], name)"
   ]
  },
  {
   "cell_type": "markdown",
   "id": "0d8c0147",
   "metadata": {},
   "source": [
    "# Use great-grand-child sets as heuristic\n",
    "Recursively try the first $n$ paths available as ranked by largest family size."
   ]
  },
  {
   "cell_type": "code",
   "execution_count": 70,
   "id": "fffc5617",
   "metadata": {},
   "outputs": [],
   "source": [
    "def findLong(graph, famSizes, node, path=[], longest=[], N=3):\n",
    "    if len(path) > len(longest):\n",
    "        longest = path.copy()\n",
    "\n",
    "    children = list(filter(\n",
    "        lambda c: c not in path, graph.successors(node)\n",
    "    ))\n",
    "    \n",
    "    children = list(sorted(\n",
    "        children,\n",
    "        key=lambda n: famSizes[n],\n",
    "        reverse=True\n",
    "    ))[:N]\n",
    "    # print(f\"From {node} pruned to these: {children}\")\n",
    "    for child in children:\n",
    "        if child not in path:\n",
    "            newpath = path + [child]\n",
    "            if len(newpath) > len(longest):\n",
    "                longest = newpath.copy()\n",
    "                print(f\"new longest len: {len(longest)}\")\n",
    "            findLong(graph, famSizes, child, path=newpath, longest=longest, N=N)\n",
    "\n",
    "    return longest"
   ]
  },
  {
   "cell_type": "code",
   "execution_count": 71,
   "id": "6839f50a",
   "metadata": {},
   "outputs": [
    {
     "name": "stdout",
     "output_type": "stream",
     "text": [
      "new longest len: 1\n",
      "new longest len: 2\n",
      "new longest len: 3\n",
      "new longest len: 4\n",
      "new longest len: 5\n",
      "new longest len: 6\n",
      "new longest len: 7\n",
      "new longest len: 8\n",
      "new longest len: 9\n",
      "new longest len: 10\n",
      "new longest len: 11\n",
      "new longest len: 12\n",
      "new longest len: 13\n",
      "new longest len: 14\n",
      "new longest len: 15\n",
      "new longest len: 16\n",
      "new longest len: 17\n",
      "new longest len: 18\n",
      "new longest len: 19\n",
      "new longest len: 20\n",
      "new longest len: 21\n",
      "new longest len: 22\n",
      "['Afghanistan']\n",
      "[]\n"
     ]
    }
   ],
   "source": [
    "l = []\n",
    "longest = findLong(G, grandChildSizes, 'Albania', longest=l, N=1)\n",
    "print(longest)\n",
    "print(l)"
   ]
  },
  {
   "cell_type": "code",
   "execution_count": 63,
   "id": "a7419586",
   "metadata": {},
   "outputs": [
    {
     "name": "stdout",
     "output_type": "stream",
     "text": [
      "['Afghanistan']\n",
      "[]\n"
     ]
    }
   ],
   "source": [
    "print(longest)\n",
    "print(l)"
   ]
  },
  {
   "cell_type": "code",
   "execution_count": null,
   "id": "3b897142",
   "metadata": {},
   "outputs": [],
   "source": []
  }
 ],
 "metadata": {
  "kernelspec": {
   "display_name": "Python 3 (ipykernel)",
   "language": "python",
   "name": "python3"
  },
  "language_info": {
   "codemirror_mode": {
    "name": "ipython",
    "version": 3
   },
   "file_extension": ".py",
   "mimetype": "text/x-python",
   "name": "python",
   "nbconvert_exporter": "python",
   "pygments_lexer": "ipython3",
   "version": "3.11.1"
  }
 },
 "nbformat": 4,
 "nbformat_minor": 5
}
